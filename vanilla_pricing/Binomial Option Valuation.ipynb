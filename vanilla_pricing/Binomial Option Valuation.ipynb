{
 "cells": [
  {
   "cell_type": "markdown",
   "id": "ae12738b-020d-4b5a-b210-205e009bf161",
   "metadata": {},
   "source": [
    "## CRR Option Valuation (Cox-Ross-Rubinstein Binomial Model)"
   ]
  },
  {
   "cell_type": "markdown",
   "id": "5cf4a6f1-ce97-4e2c-9bd6-c683f6f4e878",
   "metadata": {},
   "source": [
    "This script implements the Cox-Ross-Rubinstein (CRR) binomial model for European option valuation. It calculates the option value by stepping backwards through the binomial tree. The example at the end of the script demonstrates how to use the function to calculate the value of a European call option."
   ]
  },
  {
   "cell_type": "code",
   "execution_count": 5,
   "id": "74da30a0-7bb6-4939-8f94-024a1023d4da",
   "metadata": {},
   "outputs": [],
   "source": [
    "import math\n",
    "import numpy as np\n",
    "import matplotlib as mpl\n",
    "import matplotlib.pyplot as plt\n",
    "mpl.rcParams['font.family'] = 'serif'"
   ]
  },
  {
   "cell_type": "code",
   "execution_count": 7,
   "id": "05ede324-bd4f-4f12-a633-072ec075e1fd",
   "metadata": {},
   "outputs": [],
   "source": [
    "# Model Parameters\n",
    "S0 = 100.0  # index level\n",
    "K = 100.0  # option strike\n",
    "T = 1.0  # maturity date\n",
    "r = 0.05  # risk-less short rate\n",
    "sigma = 0.2  # volatility"
   ]
  },
  {
   "cell_type": "code",
   "execution_count": 9,
   "id": "e07b5de8-5ed7-405c-96c9-0f39dbc9d356",
   "metadata": {},
   "outputs": [],
   "source": [
    "# Valuation Function\n",
    "def CRR_option_value(S0, K, T, r, sigma, otype, M=4):\n",
    "    ''' Cox-Ross-Rubinstein European option valuation.\n",
    "    Parameters\n",
    "    ==========\n",
    "    S0: float\n",
    "        stock/index level at time 0\n",
    "    K: float\n",
    "        strike price\n",
    "    T: float\n",
    "        date of maturity\n",
    "    r: float\n",
    "        constant, risk-less short rate\n",
    "    sigma: float\n",
    "        volatility\n",
    "    otype: string\n",
    "        either 'call' or 'put'\n",
    "    M: int\n",
    "        number of time intervals\n",
    "    '''\n",
    "    # Time Parameters\n",
    "    dt = T / M  # length of time interval\n",
    "    df = math.exp(-r * dt)  # discount per interval\n",
    "\n",
    "    # Binomial Parameters\n",
    "    u = math.exp(sigma * math.sqrt(dt))  # up movement\n",
    "    d = 1 / u  # down movement\n",
    "    q = (math.exp(r * dt) - d) / (u - d)  # martingale branch probability\n",
    "\n",
    "    # Array Initialization for Index Levels\n",
    "    mu = np.arange(M + 1)\n",
    "    mu = np.resize(mu, (M + 1, M + 1))\n",
    "    md = np.transpose(mu)\n",
    "    mu = u ** (mu - md)\n",
    "    md = d ** md\n",
    "    S = S0 * mu * md\n",
    "\n",
    "    # Inner Values\n",
    "    if otype == 'call':\n",
    "        V = np.maximum(S - K, 0)  # inner values for European call option\n",
    "    else:\n",
    "        V = np.maximum(K - S, 0)  # inner values for European put option\n",
    "\n",
    "    # Step-by-Step Backwards Valuation\n",
    "    for t in range(M - 1, -1, -1):\n",
    "        V[0:M-t, t] = (q * V[0:M-t, t + 1] + (1 - q) * V[1:M-t + 1, t + 1]) * df\n",
    "\n",
    "    return V[0, 0]"
   ]
  },
  {
   "cell_type": "code",
   "execution_count": 11,
   "id": "9146fed8-1367-469a-b96d-860f67897ce1",
   "metadata": {},
   "outputs": [
    {
     "name": "stdout",
     "output_type": "stream",
     "text": [
      "Option Value: 9.491\n"
     ]
    }
   ],
   "source": [
    "# Example of usage\n",
    "otype = 'call'  # Option type\n",
    "M = 4  # Number of time intervals\n",
    "option_value = CRR_option_value(S0, K, T, r, sigma, otype, M)\n",
    "print(\"Option Value: {:.3f}\".format(option_value))"
   ]
  },
  {
   "cell_type": "code",
   "execution_count": null,
   "id": "f657922b-20d2-428e-bbb1-facd5b6cad76",
   "metadata": {},
   "outputs": [],
   "source": []
  }
 ],
 "metadata": {
  "kernelspec": {
   "display_name": "Python [conda env:qntdev]",
   "language": "python",
   "name": "conda-env-qntdev-py"
  },
  "language_info": {
   "codemirror_mode": {
    "name": "ipython",
    "version": 3
   },
   "file_extension": ".py",
   "mimetype": "text/x-python",
   "name": "python",
   "nbconvert_exporter": "python",
   "pygments_lexer": "ipython3",
   "version": "3.10.16"
  }
 },
 "nbformat": 4,
 "nbformat_minor": 5
}
